{
 "cells": [
  {
   "cell_type": "code",
   "execution_count": 1,
   "id": "cba7e8c5-1d08-4340-a17a-ecc410f160d2",
   "metadata": {},
   "outputs": [],
   "source": [
    "import sys\n",
    "sys.path.append('..')\n",
    "\n",
    "import joblib\n",
    "import lightgbm\n",
    "import optuna\n",
    "from optuna.samplers import TPESampler\n",
    "\n",
    "from sklearn.model_selection import cross_val_score\n",
    "from sklearn.model_selection import StratifiedShuffleSplit\n",
    "\n",
    "import src"
   ]
  },
  {
   "cell_type": "code",
   "execution_count": 2,
   "id": "919d86bf-319f-4007-b8d7-f57e808b9920",
   "metadata": {},
   "outputs": [],
   "source": [
    "optuna.logging.set_verbosity(optuna.logging.WARNING)"
   ]
  },
  {
   "cell_type": "code",
   "execution_count": 3,
   "id": "19843c08-4d62-4458-bfcf-fe8510ee2d78",
   "metadata": {},
   "outputs": [],
   "source": [
    "train_data = joblib.load(src.constants.TRAIN_DATA_PATH).set_index('customer_ID')"
   ]
  },
  {
   "cell_type": "code",
   "execution_count": 4,
   "id": "69eeb026-a47f-4b0f-91aa-ed9f54547dd1",
   "metadata": {},
   "outputs": [],
   "source": [
    "X_train = train_data.drop(columns=['target', 'S_2'])\n",
    "y_train = train_data['target']"
   ]
  },
  {
   "cell_type": "code",
   "execution_count": 5,
   "id": "eeb8560a-2fba-4299-ac29-1649edfb0763",
   "metadata": {},
   "outputs": [],
   "source": [
    "def objective(trial):\n",
    "    model = lightgbm.LGBMClassifier(**get_hyperparams(trial, mode='fit'))\n",
    "    scores = cross_val_score(\n",
    "        estimator=model,\n",
    "        X=X_train,\n",
    "        y=y_train,\n",
    "        scoring='roc_auc',\n",
    "        cv=StratifiedShuffleSplit(n_splits=5, random_state=src.constants.RANDOM_STATE),\n",
    "    )\n",
    "\n",
    "    return scores.mean()\n",
    "\n",
    "\n",
    "def get_hyperparams(trial, mode):\n",
    "    if mode == 'fit':\n",
    "        max_depth = trial.suggest_int('max_depth', 1, 5)\n",
    "        num_leaves = trial.suggest_int('num_leaves', 2, 32)\n",
    "\n",
    "    elif mode == 'refit':\n",
    "        max_depth = trial.params['max_depth']\n",
    "        num_leaves = trial.params['num_leaves']\n",
    "\n",
    "    init_hypeparams = dict(\n",
    "        objective='binary',\n",
    "        is_unbalance=True,\n",
    "        boosting_type='gbdt',\n",
    "        max_depth=max_depth,\n",
    "        num_leaves=num_leaves,\n",
    "        random_state=src.constants.RANDOM_STATE,\n",
    "        verbose=-1,\n",
    "    )\n",
    "\n",
    "    return init_hypeparams"
   ]
  },
  {
   "cell_type": "code",
   "execution_count": 6,
   "id": "d9f8b82c-7608-4bc0-8be2-7fdfb38b87da",
   "metadata": {},
   "outputs": [],
   "source": [
    "study = optuna.create_study(\n",
    "    sampler=TPESampler(seed=src.constants.RANDOM_STATE),\n",
    "    direction='maximize',\n",
    "    study_name='optuna',\n",
    ")"
   ]
  },
  {
   "cell_type": "code",
   "execution_count": 7,
   "id": "8e409b88-02c6-4b1d-9212-27a100016664",
   "metadata": {},
   "outputs": [
    {
     "data": {
      "application/vnd.jupyter.widget-view+json": {
       "model_id": "21d7b24e249340ad98af1e4082b13dc2",
       "version_major": 2,
       "version_minor": 0
      },
      "text/plain": [
       "  0%|          | 0/25 [00:00<?, ?it/s]"
      ]
     },
     "metadata": {},
     "output_type": "display_data"
    },
    {
     "name": "stdout",
     "output_type": "stream",
     "text": [
      "CPU times: total: 1h 17min 39s\n",
      "Wall time: 28min 44s\n"
     ]
    }
   ],
   "source": [
    "%%time\n",
    "study.optimize(objective, n_trials=25, show_progress_bar=True)"
   ]
  },
  {
   "cell_type": "code",
   "execution_count": 16,
   "id": "9aa831ae-c5b8-4978-9849-049bebc20fea",
   "metadata": {},
   "outputs": [
    {
     "name": "stdout",
     "output_type": "stream",
     "text": [
      "Лучшие гиперпараметры:\n",
      "* max_depth: 5\n",
      "* num_leaves: 26\n",
      "Лучший AUC: 0.9583847287838119\n"
     ]
    }
   ],
   "source": [
    "print('Лучшие гиперпараметры:')\n",
    "for hyperparam, value in study.best_trial.params.items():\n",
    "    print(f'* {hyperparam}: {value}')\n",
    "print(f'Лучший AUC: {study.best_trial.value}')"
   ]
  },
  {
   "cell_type": "code",
   "execution_count": 10,
   "id": "eee00ccf-b0a0-412e-a838-a6500ae7c933",
   "metadata": {},
   "outputs": [
    {
     "data": {
      "text/plain": [
       "0.9583847287838119"
      ]
     },
     "execution_count": 10,
     "metadata": {},
     "output_type": "execute_result"
    }
   ],
   "source": [
    "# 0.9582783195297522\n",
    "# 0.9583847287838119\n",
    "study.best_trial.value"
   ]
  }
 ],
 "metadata": {
  "kernelspec": {
   "display_name": "Python 3 (ipykernel)",
   "language": "python",
   "name": "python3"
  },
  "language_info": {
   "codemirror_mode": {
    "name": "ipython",
    "version": 3
   },
   "file_extension": ".py",
   "mimetype": "text/x-python",
   "name": "python",
   "nbconvert_exporter": "python",
   "pygments_lexer": "ipython3",
   "version": "3.11.4"
  }
 },
 "nbformat": 4,
 "nbformat_minor": 5
}
